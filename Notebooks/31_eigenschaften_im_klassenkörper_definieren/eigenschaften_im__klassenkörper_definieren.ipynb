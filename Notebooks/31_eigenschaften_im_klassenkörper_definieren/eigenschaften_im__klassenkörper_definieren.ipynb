{
 "cells": [
  {
   "metadata": {},
   "cell_type": "markdown",
   "source": "# Eigenschaften im Klassenkörper definieren\n"
  },
  {
   "metadata": {},
   "cell_type": "markdown",
   "source": "Auch im Klassenkörper können Eigenschaften einer Klasse definiert werden. Dabei können die Eigenschaften aus der Kopfzeile verwendet werden."
  },
  {
   "metadata": {
    "ExecuteTime": {
     "end_time": "2025-05-25T15:08:22.570515879Z",
     "start_time": "2025-05-25T15:08:22.394322074Z"
    }
   },
   "cell_type": "code",
   "source": [
    "data class Article(val name: String, var priceInEuros: Int){\n",
    "    val priceInCents = 100 * priceInEuros\n",
    "    var available = true\n",
    "}"
   ],
   "outputs": [],
   "execution_count": 20
  },
  {
   "metadata": {},
   "cell_type": "markdown",
   "source": "Beim Aufruf eines Konstruktors werden nur für die, in der Kopfzeile definierten Eigenschaften, Werte übergeben."
  },
  {
   "metadata": {
    "ExecuteTime": {
     "end_time": "2025-05-25T15:08:22.714604837Z",
     "start_time": "2025-05-25T15:08:22.584640708Z"
    }
   },
   "cell_type": "code",
   "source": "val banana = Article(\"Banana\", 3)",
   "outputs": [],
   "execution_count": 21
  },
  {
   "metadata": {},
   "cell_type": "markdown",
   "source": "Auch in der String-Darstellung werden nur diese Eigenschaften verwendet."
  },
  {
   "metadata": {
    "ExecuteTime": {
     "end_time": "2025-05-25T15:08:22.894898943Z",
     "start_time": "2025-05-25T15:08:22.733156210Z"
    }
   },
   "cell_type": "code",
   "source": "banana",
   "outputs": [
    {
     "data": {
      "text/plain": [
       "Article(name=Banana, priceInEuros=3)"
      ]
     },
     "execution_count": 22,
     "metadata": {},
     "output_type": "execute_result"
    }
   ],
   "execution_count": 22
  },
  {
   "metadata": {},
   "cell_type": "markdown",
   "source": "Ansonsten kann mit den im Klassenkörper definierten Eingenschaften, genau wie mit den, in der Kopfzeile definierten Eigenschaften gearbeitet werden. Z.B. ist ein Zugriff mit der Punktnotation möglich."
  },
  {
   "metadata": {
    "ExecuteTime": {
     "end_time": "2025-05-25T15:08:23.123589509Z",
     "start_time": "2025-05-25T15:08:22.913681816Z"
    }
   },
   "cell_type": "code",
   "source": "banana.priceInCents",
   "outputs": [
    {
     "data": {
      "text/plain": [
       "300"
      ]
     },
     "execution_count": 23,
     "metadata": {},
     "output_type": "execute_result"
    }
   ],
   "execution_count": 23
  },
  {
   "metadata": {
    "ExecuteTime": {
     "end_time": "2025-05-25T15:08:23.258716376Z",
     "start_time": "2025-05-25T15:08:23.145866525Z"
    }
   },
   "cell_type": "code",
   "source": "banana.available",
   "outputs": [
    {
     "data": {
      "text/plain": [
       "true"
      ]
     },
     "execution_count": 24,
     "metadata": {},
     "output_type": "execute_result"
    }
   ],
   "execution_count": 24
  },
  {
   "metadata": {},
   "cell_type": "markdown",
   "source": "Außerdem können diese Eigenschaften in Methoden verwendet werden."
  },
  {
   "metadata": {
    "ExecuteTime": {
     "end_time": "2025-05-25T15:13:16.326008592Z",
     "start_time": "2025-05-25T15:13:14.723644589Z"
    }
   },
   "cell_type": "code",
   "source": [
    "data class Article(val name: String, var priceInEuros: Int){\n",
    "    val priceInCents = 100 * priceInEuros\n",
    "    var available = true\n",
    "\n",
    "    fun enoughCents(availableCents: Int) = availableCents >= priceInCents\n",
    "}"
   ],
   "outputs": [],
   "execution_count": 25
  }
 ],
 "metadata": {
  "kernelspec": {
   "display_name": "Kotlin",
   "language": "kotlin",
   "name": "kotlin"
  },
  "language_info": {
   "name": "kotlin",
   "version": "1.9.23",
   "mimetype": "text/x-kotlin",
   "file_extension": ".kt",
   "pygments_lexer": "kotlin",
   "codemirror_mode": "text/x-kotlin",
   "nbconvert_exporter": ""
  }
 },
 "nbformat": 4,
 "nbformat_minor": 0
}
