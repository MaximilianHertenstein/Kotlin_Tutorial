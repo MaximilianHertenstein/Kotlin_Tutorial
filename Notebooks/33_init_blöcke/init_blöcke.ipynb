{
 "cells": [
  {
   "metadata": {},
   "cell_type": "markdown",
   "source": [
    "# init-Blöcke\n",
    "\n",
    "In `init`-Blöcken im Klassenkörper, können wir beliebigen Code schreiben. Dieser wird beim Aufruf des Konstruktors ausgeführt."
   ]
  },
  {
   "cell_type": "code",
   "metadata": {
    "collapsed": true,
    "ExecuteTime": {
     "end_time": "2025-04-25T15:38:41.033488990Z",
     "start_time": "2025-04-25T15:38:40.575773872Z"
    }
   },
   "source": [
    "data class Article(val name: String,val price: Int){\n",
    "    init {\n",
    "        println(\"Ein Artikel mit dem Namen \" + name + \" wurde erzeugt.\")\n",
    "    }\n",
    "}"
   ],
   "outputs": [],
   "execution_count": 1
  },
  {
   "metadata": {
    "ExecuteTime": {
     "end_time": "2025-04-25T15:38:42.027828152Z",
     "start_time": "2025-04-25T15:38:41.721047186Z"
    }
   },
   "cell_type": "code",
   "source": "Article(\"Apfel\", 3)",
   "outputs": [
    {
     "name": "stdout",
     "output_type": "stream",
     "text": [
      "Ein Artikel mit dem Namen Apfel wurde erzeugt.\n"
     ]
    },
    {
     "data": {
      "text/plain": [
       "Article(name=Apfel, price=3)"
      ]
     },
     "execution_count": 2,
     "metadata": {},
     "output_type": "execute_result"
    }
   ],
   "execution_count": 2
  }
 ],
 "metadata": {
  "kernelspec": {
   "display_name": "Kotlin",
   "language": "kotlin",
   "name": "kotlin"
  },
  "language_info": {
   "name": "kotlin",
   "version": "1.9.23",
   "mimetype": "text/x-kotlin",
   "file_extension": ".kt",
   "pygments_lexer": "kotlin",
   "codemirror_mode": "text/x-kotlin",
   "nbconvert_exporter": ""
  }
 },
 "nbformat": 4,
 "nbformat_minor": 0
}
