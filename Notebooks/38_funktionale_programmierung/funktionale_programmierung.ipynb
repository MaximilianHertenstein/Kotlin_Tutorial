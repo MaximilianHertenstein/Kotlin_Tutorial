{
 "cells": [
  {
   "cell_type": "markdown",
   "source": [
    "# Funktionen als Werte\n",
    "\n",
    "In dem folgenden Codeblock werden die Funktionen `showNumber` und `incAcc` definiert."
   ],
   "attachments": {},
   "metadata": {
    "datalore": {
     "node_id": "braSDNNzsYwv1GHdeHWhdY",
     "type": "MD",
     "hide_input_from_viewers": true,
     "hide_output_from_viewers": true
    }
   }
  },
  {
   "metadata": {
    "datalore": {
     "node_id": "GCGEsM5cyZlN5UQuJgg7hk",
     "type": "CODE",
     "hide_input_from_viewers": true,
     "hide_output_from_viewers": true
    },
    "ExecuteTime": {
     "end_time": "2025-04-30T15:30:52.587492366Z",
     "start_time": "2025-04-30T15:30:52.312735317Z"
    }
   },
   "cell_type": "code",
   "source": [
    "fun showNumber(x: Int) {\n",
    "    println(\"|\" + x + \"|\")\n",
    "}\n",
    "\n",
    "var acc = 0\n",
    "fun incAcc(x: Int){\n",
    "    acc = acc + x\n",
    "}"
   ],
   "outputs": [],
   "execution_count": 1
  },
  {
   "cell_type": "markdown",
   "source": "Wir haben Funktionen bisher nur verwendet, um sie an anderen Stellen im Code aufzurufen.",
   "attachments": {},
   "metadata": {
    "datalore": {
     "node_id": "fngokhP8OtNFKfNwmTdzT8",
     "type": "MD",
     "hide_input_from_viewers": true,
     "hide_output_from_viewers": true
    }
   }
  },
  {
   "cell_type": "code",
   "source": [
    "showNumber(4)"
   ],
   "metadata": {
    "datalore": {
     "node_id": "5vyk4WyMDZZfxRw2bACfUQ",
     "type": "CODE",
     "hide_input_from_viewers": true,
     "hide_output_from_viewers": true
    },
    "ExecuteTime": {
     "end_time": "2025-04-30T15:30:58.748257726Z",
     "start_time": "2025-04-30T15:30:58.514547545Z"
    }
   },
   "outputs": [
    {
     "name": "stdout",
     "output_type": "stream",
     "text": [
      "|4|\n"
     ]
    }
   ],
   "execution_count": 2
  },
  {
   "cell_type": "markdown",
   "source": [
    "Wenn wir die Argumente vergessen, erhalten wir eine Fehlermeldung. "
   ],
   "attachments": {},
   "metadata": {
    "datalore": {
     "node_id": "aCAArs9EAO8beSQN0tvHDM",
     "type": "MD",
     "hide_input_from_viewers": true,
     "hide_output_from_viewers": true
    }
   }
  },
  {
   "cell_type": "code",
   "source": [
    "showNumber"
   ],
   "metadata": {
    "datalore": {
     "node_id": "NvnvX4phsgiSabSpmzJPSr",
     "type": "CODE",
     "hide_input_from_viewers": true,
     "hide_output_from_viewers": true
    },
    "ExecuteTime": {
     "end_time": "2025-04-30T15:31:01.168820736Z",
     "start_time": "2025-04-30T15:31:00.825989173Z"
    }
   },
   "outputs": [
    {
     "ename": "org.jetbrains.kotlinx.jupyter.exceptions.ReplCompilerException",
     "evalue": "at Cell In[3], line 1, column 1: Function invocation 'showNumber(...)' expected\nat Cell In[3], line 1, column 1: No value passed for parameter 'x'",
     "output_type": "error",
     "traceback": [
      "org.jetbrains.kotlinx.jupyter.exceptions.ReplCompilerException: at Cell In[3], line 1, column 1: Function invocation 'showNumber(...)' expected",
      "at Cell In[3], line 1, column 1: No value passed for parameter 'x'",
      "\tat org.jetbrains.kotlinx.jupyter.repl.impl.JupyterCompilerImpl.compileSync(JupyterCompilerImpl.kt:208)",
      "\tat org.jetbrains.kotlinx.jupyter.repl.impl.InternalEvaluatorImpl.eval(InternalEvaluatorImpl.kt:126)",
      "\tat org.jetbrains.kotlinx.jupyter.repl.impl.CellExecutorImpl$execute$1$result$1.invoke(CellExecutorImpl.kt:80)",
      "\tat org.jetbrains.kotlinx.jupyter.repl.impl.CellExecutorImpl$execute$1$result$1.invoke(CellExecutorImpl.kt:78)",
      "\tat org.jetbrains.kotlinx.jupyter.repl.impl.ReplForJupyterImpl.withHost(ReplForJupyterImpl.kt:791)",
      "\tat org.jetbrains.kotlinx.jupyter.repl.impl.CellExecutorImpl.execute-L4Nmkdk(CellExecutorImpl.kt:78)",
      "\tat org.jetbrains.kotlinx.jupyter.repl.execution.CellExecutor$DefaultImpls.execute-L4Nmkdk$default(CellExecutor.kt:13)",
      "\tat org.jetbrains.kotlinx.jupyter.repl.impl.ReplForJupyterImpl.evaluateUserCode-wNURfNM(ReplForJupyterImpl.kt:613)",
      "\tat org.jetbrains.kotlinx.jupyter.repl.impl.ReplForJupyterImpl.evalExImpl(ReplForJupyterImpl.kt:471)",
      "\tat org.jetbrains.kotlinx.jupyter.repl.impl.ReplForJupyterImpl.access$evalExImpl(ReplForJupyterImpl.kt:143)",
      "\tat org.jetbrains.kotlinx.jupyter.repl.impl.ReplForJupyterImpl$evalEx$1.invoke(ReplForJupyterImpl.kt:464)",
      "\tat org.jetbrains.kotlinx.jupyter.repl.impl.ReplForJupyterImpl$evalEx$1.invoke(ReplForJupyterImpl.kt:463)",
      "\tat org.jetbrains.kotlinx.jupyter.repl.impl.ReplForJupyterImpl.withEvalContext(ReplForJupyterImpl.kt:444)",
      "\tat org.jetbrains.kotlinx.jupyter.repl.impl.ReplForJupyterImpl.evalEx(ReplForJupyterImpl.kt:463)",
      "\tat org.jetbrains.kotlinx.jupyter.messaging.IdeCompatibleMessageRequestProcessor$processExecuteRequest$1$response$1$1.invoke(IdeCompatibleMessageRequestProcessor.kt:159)",
      "\tat org.jetbrains.kotlinx.jupyter.messaging.IdeCompatibleMessageRequestProcessor$processExecuteRequest$1$response$1$1.invoke(IdeCompatibleMessageRequestProcessor.kt:158)",
      "\tat org.jetbrains.kotlinx.jupyter.streams.BlockingSubstitutionEngine.withDataSubstitution(SubstitutionEngine.kt:70)",
      "\tat org.jetbrains.kotlinx.jupyter.streams.StreamSubstitutionManager.withSubstitutedStreams(StreamSubstitutionManager.kt:118)",
      "\tat org.jetbrains.kotlinx.jupyter.messaging.IdeCompatibleMessageRequestProcessor.withForkedIn(IdeCompatibleMessageRequestProcessor.kt:335)",
      "\tat org.jetbrains.kotlinx.jupyter.messaging.IdeCompatibleMessageRequestProcessor.access$withForkedIn(IdeCompatibleMessageRequestProcessor.kt:54)",
      "\tat org.jetbrains.kotlinx.jupyter.messaging.IdeCompatibleMessageRequestProcessor$evalWithIO$1$1.invoke(IdeCompatibleMessageRequestProcessor.kt:349)",
      "\tat org.jetbrains.kotlinx.jupyter.streams.BlockingSubstitutionEngine.withDataSubstitution(SubstitutionEngine.kt:70)",
      "\tat org.jetbrains.kotlinx.jupyter.streams.StreamSubstitutionManager.withSubstitutedStreams(StreamSubstitutionManager.kt:118)",
      "\tat org.jetbrains.kotlinx.jupyter.messaging.IdeCompatibleMessageRequestProcessor.withForkedErr(IdeCompatibleMessageRequestProcessor.kt:324)",
      "\tat org.jetbrains.kotlinx.jupyter.messaging.IdeCompatibleMessageRequestProcessor.access$withForkedErr(IdeCompatibleMessageRequestProcessor.kt:54)",
      "\tat org.jetbrains.kotlinx.jupyter.messaging.IdeCompatibleMessageRequestProcessor$evalWithIO$1.invoke(IdeCompatibleMessageRequestProcessor.kt:348)",
      "\tat org.jetbrains.kotlinx.jupyter.streams.BlockingSubstitutionEngine.withDataSubstitution(SubstitutionEngine.kt:70)",
      "\tat org.jetbrains.kotlinx.jupyter.streams.StreamSubstitutionManager.withSubstitutedStreams(StreamSubstitutionManager.kt:118)",
      "\tat org.jetbrains.kotlinx.jupyter.messaging.IdeCompatibleMessageRequestProcessor.withForkedOut(IdeCompatibleMessageRequestProcessor.kt:316)",
      "\tat org.jetbrains.kotlinx.jupyter.messaging.IdeCompatibleMessageRequestProcessor.evalWithIO(IdeCompatibleMessageRequestProcessor.kt:347)",
      "\tat org.jetbrains.kotlinx.jupyter.messaging.IdeCompatibleMessageRequestProcessor$processExecuteRequest$1$response$1.invoke(IdeCompatibleMessageRequestProcessor.kt:158)",
      "\tat org.jetbrains.kotlinx.jupyter.messaging.IdeCompatibleMessageRequestProcessor$processExecuteRequest$1$response$1.invoke(IdeCompatibleMessageRequestProcessor.kt:157)",
      "\tat org.jetbrains.kotlinx.jupyter.execution.JupyterExecutorImpl$Task.execute(JupyterExecutorImpl.kt:41)",
      "\tat org.jetbrains.kotlinx.jupyter.execution.JupyterExecutorImpl$executorThread$1.invoke(JupyterExecutorImpl.kt:83)",
      "\tat org.jetbrains.kotlinx.jupyter.execution.JupyterExecutorImpl$executorThread$1.invoke(JupyterExecutorImpl.kt:80)",
      "\tat kotlin.concurrent.ThreadsKt$thread$thread$1.run(Thread.kt:30)",
      ""
     ]
    }
   ],
   "execution_count": 3
  },
  {
   "cell_type": "markdown",
   "source": "Es ist aber möglich Funktionen, nicht aufzurufen, sondern als Werte zu verwenden. Dafür müssen zwei Doppelpunkte vor den Funktionsnamen schreiben.",
   "attachments": {},
   "metadata": {
    "datalore": {
     "node_id": "dQzQz73Oi7mJeOOnheoPLQ",
     "type": "MD",
     "hide_input_from_viewers": true,
     "hide_output_from_viewers": true
    }
   }
  },
  {
   "cell_type": "code",
   "source": [
    "::showNumber"
   ],
   "metadata": {
    "datalore": {
     "node_id": "5CbMeWZ1fdvJobV4T4HNH9",
     "type": "CODE",
     "hide_input_from_viewers": true,
     "hide_output_from_viewers": true
    },
    "ExecuteTime": {
     "end_time": "2025-04-30T15:31:05.407717918Z",
     "start_time": "2025-04-30T15:31:04.889520530Z"
    }
   },
   "outputs": [
    {
     "data": {
      "text/plain": [
       "fun Line_2_jupyter.showNumber(kotlin.Int): kotlin.Unit"
      ]
     },
     "execution_count": 4,
     "metadata": {},
     "output_type": "execute_result"
    }
   ],
   "execution_count": 4
  },
  {
   "cell_type": "code",
   "source": [
    "::incAcc"
   ],
   "metadata": {
    "datalore": {
     "node_id": "jgBWJGyd6Yo5pxjmlvFWpC",
     "type": "CODE",
     "hide_input_from_viewers": true,
     "hide_output_from_viewers": true
    },
    "ExecuteTime": {
     "end_time": "2025-04-30T15:31:07.083787637Z",
     "start_time": "2025-04-30T15:31:06.849504882Z"
    }
   },
   "outputs": [
    {
     "data": {
      "text/plain": [
       "fun Line_2_jupyter.incAcc(kotlin.Int): kotlin.Unit"
      ]
     },
     "execution_count": 5,
     "metadata": {},
     "output_type": "execute_result"
    }
   ],
   "execution_count": 5
  },
  {
   "cell_type": "markdown",
   "source": [
    "Die Ausgaben bedeuten, dass beide Funktionen den Typ `(Int) -> Unit` haben. Das ist nur eine andere Möglichkeit um zu sagen, dass wir diesen Funktionen beim Aufruf ein Integer übergeben und keinen Rückgabewert erhalten. "
   ],
   "attachments": {},
   "metadata": {
    "datalore": {
     "node_id": "ZHVYRghAush8LeUA3Vcmvb",
     "type": "MD",
     "hide_input_from_viewers": true,
     "hide_output_from_viewers": true
    }
   }
  },
  {
   "cell_type": "markdown",
   "source": [
    "Wenn wir Funktionen als Werte verwenden, können wir mit diesen alles machen, was wir mit anderen Wert machen können.\n",
    "Z.B. können wir Funktionen in Variablen speichern."
   ],
   "attachments": {},
   "metadata": {
    "datalore": {
     "node_id": "BAIcabmQiLGiO3M9VkRXYi",
     "type": "MD",
     "hide_input_from_viewers": true,
     "hide_output_from_viewers": true
    }
   }
  },
  {
   "cell_type": "code",
   "source": [
    "val x = ::showNumber"
   ],
   "metadata": {
    "datalore": {
     "node_id": "kr2ZG2HNyes35Al74G0NkG",
     "type": "CODE",
     "hide_input_from_viewers": true,
     "hide_output_from_viewers": true
    },
    "ExecuteTime": {
     "end_time": "2025-04-30T15:31:13.779845086Z",
     "start_time": "2025-04-30T15:31:13.546120780Z"
    }
   },
   "outputs": [],
   "execution_count": 6
  },
  {
   "cell_type": "markdown",
   "source": [
    "Und diese Variablen anschließend verwenden."
   ],
   "attachments": {},
   "metadata": {
    "datalore": {
     "node_id": "zUAxzve25o0uxq4veWRjru",
     "type": "MD",
     "hide_input_from_viewers": true,
     "hide_output_from_viewers": true
    }
   }
  },
  {
   "cell_type": "code",
   "source": [
    "x(3)"
   ],
   "metadata": {
    "datalore": {
     "node_id": "OaXrN7OeFgdZPflb2aA9QN",
     "type": "CODE",
     "hide_input_from_viewers": true,
     "hide_output_from_viewers": true
    },
    "ExecuteTime": {
     "end_time": "2025-04-30T15:31:15.848228692Z",
     "start_time": "2025-04-30T15:31:15.621205057Z"
    }
   },
   "outputs": [
    {
     "name": "stdout",
     "output_type": "stream",
     "text": [
      "|3|\n"
     ]
    }
   ],
   "execution_count": 7
  },
  {
   "cell_type": "markdown",
   "source": "Wir können Funktionen, die denselben Typ haben, in einer Liste speichern.",
   "attachments": {},
   "metadata": {
    "datalore": {
     "node_id": "XrfmfGPChiTYpS6PE3JdMv",
     "type": "MD",
     "hide_input_from_viewers": true,
     "hide_output_from_viewers": true
    }
   }
  },
  {
   "cell_type": "code",
   "source": [
    "val functions = listOf(::showNumber, ::incAcc)"
   ],
   "metadata": {
    "datalore": {
     "node_id": "GjRcoYXO2gfkVSRTYTNSEP",
     "type": "CODE",
     "hide_input_from_viewers": true,
     "hide_output_from_viewers": true
    },
    "ExecuteTime": {
     "end_time": "2025-04-30T15:33:46.619445528Z",
     "start_time": "2025-04-30T15:33:46.472814751Z"
    }
   },
   "outputs": [],
   "execution_count": 16
  },
  {
   "cell_type": "markdown",
   "source": "Außerdem können wir Funktionen definieren, deren Parameter selbst wieder Funktionen sind.",
   "attachments": {},
   "metadata": {
    "datalore": {
     "node_id": "848TbesGXitJTzTZW2iX3j",
     "type": "MD",
     "hide_input_from_viewers": true,
     "hide_output_from_viewers": true
    }
   }
  },
  {
   "cell_type": "code",
   "source": [
    "fun doWithOneToThree(f: (Int) -> Unit){\n",
    "    f(1)\n",
    "    f(2)\n",
    "    f(3)\n",
    "}"
   ],
   "metadata": {
    "datalore": {
     "node_id": "KzPiYZ4hdfkIZXFm3VaUZr",
     "type": "CODE",
     "hide_input_from_viewers": true,
     "hide_output_from_viewers": true
    },
    "ExecuteTime": {
     "end_time": "2025-04-30T15:31:20.584152275Z",
     "start_time": "2025-04-30T15:31:20.467550605Z"
    }
   },
   "outputs": [],
   "execution_count": 9
  },
  {
   "cell_type": "markdown",
   "source": [
    "Der Funktion `doWithOneToThree` wird beim Aufruf eine Funktion mit dem Typ `(Int) -> Unit)` übergeben. Diese wird dann nacheinander mit den Argumenten $1$, $2$ und $3$ aufgerufen.\n",
    "\n",
    "Da die Funktion `showNumber` den Typ `(Int) -> Unit)` hat, können wir sie als Argument für `doWithOneToThree` verwenden."
   ],
   "attachments": {},
   "metadata": {
    "datalore": {
     "node_id": "UfZxQwWULbvCyzMsFqMmOe",
     "type": "MD",
     "hide_input_from_viewers": true,
     "hide_output_from_viewers": true
    }
   }
  },
  {
   "cell_type": "code",
   "source": [
    "doWithOneToThree(::showNumber)"
   ],
   "metadata": {
    "datalore": {
     "node_id": "C1F3EM98f3Aal3GXzNuviM",
     "type": "CODE",
     "hide_input_from_viewers": true,
     "hide_output_from_viewers": true
    },
    "ExecuteTime": {
     "end_time": "2025-04-30T15:31:20.779263929Z",
     "start_time": "2025-04-30T15:31:20.596365633Z"
    }
   },
   "outputs": [
    {
     "name": "stdout",
     "output_type": "stream",
     "text": [
      "|1|\n",
      "|2|\n",
      "|3|\n"
     ]
    }
   ],
   "execution_count": 10
  },
  {
   "cell_type": "markdown",
   "source": [
    "Auch die Funktion `incAcc` hat den Typ `(Int) -> Unit)` , und kann deshalb als Argument für `doWithOneToThree` verwendet werden."
   ],
   "attachments": {},
   "metadata": {
    "datalore": {
     "node_id": "c80xj1S68OgnFMyKbUFvt4",
     "type": "MD",
     "hide_input_from_viewers": true,
     "hide_output_from_viewers": true
    }
   }
  },
  {
   "cell_type": "code",
   "source": [
    "doWithOneToThree(::incAcc)\n",
    "acc"
   ],
   "metadata": {
    "datalore": {
     "node_id": "SoHXhkgvnimRDWE8Mm1IPL",
     "type": "CODE",
     "hide_input_from_viewers": true,
     "hide_output_from_viewers": true
    },
    "ExecuteTime": {
     "end_time": "2025-04-30T15:31:21.154391287Z",
     "start_time": "2025-04-30T15:31:20.883891571Z"
    }
   },
   "outputs": [
    {
     "data": {
      "text/plain": [
       "6"
      ]
     },
     "execution_count": 11,
     "metadata": {},
     "output_type": "execute_result"
    }
   ],
   "execution_count": 11
  },
  {
   "cell_type": "markdown",
   "source": [
    "## Lambda Ausdrücke\n",
    "\n",
    "Wenn wir einfache Funktionen, wie `showNumber` als Argumente für andere Funktionen verwenden wollen, ist es oft störend diese Funktionen erst zu definieren und sich einen sinnvollen Namen für sie zu überlegen. Um dies zu vermeiden, können sogenannte Lambdaausdrücke verwendet werden. Bei diesen schreibt man in geschweiften Klammern den Parameter und hinter einen Doppelpunk dessen Datentyp. Danach folgt ein Pfeil und rechts davon ein Statement."
   ],
   "attachments": {},
   "metadata": {
    "datalore": {
     "node_id": "UaA7LD2cti1YpZg26ZojFZ",
     "type": "MD",
     "hide_input_from_viewers": true,
     "hide_output_from_viewers": true
    }
   }
  },
  {
   "cell_type": "code",
   "source": [
    "{x: Int -> println(\"|\" + x + \"|\")}"
   ],
   "metadata": {
    "datalore": {
     "node_id": "wPK8o1VrxkxknnHVca3UKi",
     "type": "CODE",
     "hide_input_from_viewers": true,
     "hide_output_from_viewers": true
    },
    "ExecuteTime": {
     "end_time": "2025-04-30T15:33:36.320682171Z",
     "start_time": "2025-04-30T15:33:36.113131931Z"
    }
   },
   "outputs": [
    {
     "data": {
      "text/plain": [
       "(kotlin.Int) -> kotlin.Unit"
      ]
     },
     "execution_count": 15,
     "metadata": {},
     "output_type": "execute_result"
    }
   ],
   "execution_count": 15
  },
  {
   "cell_type": "markdown",
   "source": [
    "Auf diese Weise können wir Funktion direkt beim Aufruf weiteren Funktion definieren."
   ],
   "attachments": {},
   "metadata": {
    "datalore": {
     "node_id": "oghDuLFGh3bVKAUCN9K8s0",
     "type": "MD",
     "hide_input_from_viewers": true,
     "hide_output_from_viewers": true
    }
   }
  },
  {
   "cell_type": "code",
   "source": [
    "doWithOneToThree({x: Int -> println(\"|\" + x + \"|\")})"
   ],
   "metadata": {
    "datalore": {
     "node_id": "459epTVMxLMPbKX73zFw4E",
     "type": "CODE",
     "hide_input_from_viewers": true,
     "hide_output_from_viewers": true
    },
    "ExecuteTime": {
     "end_time": "2025-04-30T15:33:34.054925686Z",
     "start_time": "2025-04-30T15:33:33.834781818Z"
    }
   },
   "outputs": [
    {
     "name": "stdout",
     "output_type": "stream",
     "text": [
      "|1|\n",
      "|2|\n",
      "|3|\n"
     ]
    }
   ],
   "execution_count": 14
  }
 ],
 "metadata": {
  "kernelspec": {
   "display_name": "Kotlin",
   "language": "kotlin",
   "name": "kotlin"
  },
  "datalore": {
   "computation_mode": "JUPYTER",
   "package_manager": "pip",
   "base_environment": "default",
   "packages": [],
   "report_row_ids": [],
   "report_tabs": [],
   "version": 4
  }
 },
 "nbformat": 4,
 "nbformat_minor": 4
}
